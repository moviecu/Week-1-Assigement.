{
 "cells": [
  {
   "cell_type": "raw",
   "id": "97ff1b44-ee65-4f4a-bbf1-3be1e0680794",
   "metadata": {},
   "source": [
    "Q1. Create one variable containing following type of data:"
   ]
  },
  {
   "cell_type": "code",
   "execution_count": 4,
   "id": "812f6029-2d51-4e48-85a7-371646920a71",
   "metadata": {},
   "outputs": [],
   "source": [
    "# (i) string\n",
    "A = \"Hello, World!\""
   ]
  },
  {
   "cell_type": "code",
   "execution_count": 5,
   "id": "f5af61df-ee8e-4bb2-bc89-d5d927a7548e",
   "metadata": {},
   "outputs": [],
   "source": [
    "# (ii) list\n",
    "B = [ 1, 8, 6 , 7, 'Vivek', True, False, 45.6]"
   ]
  },
  {
   "cell_type": "code",
   "execution_count": 6,
   "id": "c0e028d5-73fe-4246-82c1-d2eee5d10ab8",
   "metadata": {},
   "outputs": [],
   "source": [
    "# (iii)\tfloat\n",
    "C = 45.6"
   ]
  },
  {
   "cell_type": "code",
   "execution_count": null,
   "id": "34344506-ad8a-4b4a-a026-b95377fd556a",
   "metadata": {},
   "outputs": [],
   "source": [
    "# (iv) tuple\n",
    "D = (10, 20, 30)"
   ]
  },
  {
   "cell_type": "code",
   "execution_count": null,
   "id": "215fc35e-5815-4974-8f3c-ffdfda3ad43c",
   "metadata": {},
   "outputs": [],
   "source": []
  },
  {
   "cell_type": "raw",
   "id": "5b22fa47-dafc-49eb-a8de-ad280ad322cf",
   "metadata": {},
   "source": [
    "Q2. Given are some following variables containing data:"
   ]
  },
  {
   "cell_type": "code",
   "execution_count": null,
   "id": "c6bc2770-58ff-4f8c-8932-b581b466f056",
   "metadata": {},
   "outputs": [],
   "source": [
    "# (i)\tvar1 = ‘ ‘\n",
    "(i) var1 is a string data type."
   ]
  },
  {
   "cell_type": "code",
   "execution_count": null,
   "id": "990e7364-70a2-45ef-bf6a-9500100e0837",
   "metadata": {},
   "outputs": [],
   "source": [
    "# (ii)\tvar2 = ‘[ DS , ML , Python]’\n",
    "(ii) var2 is a string data type."
   ]
  },
  {
   "cell_type": "code",
   "execution_count": null,
   "id": "d840123e-dac8-42ba-873e-40fe0273e8c7",
   "metadata": {},
   "outputs": [],
   "source": [
    "# (iii)\tvar3 = [ ‘DS’ , ’ML’ , ‘Python’ ]\n",
    "(iii) var3 is a list data type."
   ]
  },
  {
   "cell_type": "code",
   "execution_count": null,
   "id": "b0b93824-0fd2-47eb-a1e2-18b49dc2d88f",
   "metadata": {},
   "outputs": [],
   "source": [
    "# (iv)\tvar4 = 1\n",
    "(iv) var4 is an integer data type."
   ]
  },
  {
   "cell_type": "code",
   "execution_count": null,
   "id": "10f7ebf5-5af9-459d-8f1a-48c077c19d3b",
   "metadata": {},
   "outputs": [],
   "source": []
  },
  {
   "cell_type": "raw",
   "id": "b128f9ff-cf11-4a16-a254-70906bad0754",
   "metadata": {},
   "source": [
    "Q3. Explain the use of the following operators using an example"
   ]
  },
  {
   "cell_type": "code",
   "execution_count": 1,
   "id": "3ba74288-28e5-4b15-b1b4-27c2cccfafe2",
   "metadata": {},
   "outputs": [
    {
     "name": "stdout",
     "output_type": "stream",
     "text": [
      "3.3333333333333335\n"
     ]
    }
   ],
   "source": [
    "#(i) / (Division Operator): The / operator is used for division and returns the quotient as a float.\n",
    "a = 10\n",
    "b = 3\n",
    "result = a / b\n",
    "print(result)  # Output: 3.3333333333333335"
   ]
  },
  {
   "cell_type": "code",
   "execution_count": 2,
   "id": "1648097a-e561-4fd0-ab1b-3b2458ee5001",
   "metadata": {},
   "outputs": [
    {
     "name": "stdout",
     "output_type": "stream",
     "text": [
      "1\n"
     ]
    }
   ],
   "source": [
    "# (ii) % (Modulo Operator): The % operator is used for modulus division and returns the remainder.\n",
    "a = 10\n",
    "b = 3\n",
    "result = a % b\n",
    "print(result)  # Output: 1"
   ]
  },
  {
   "cell_type": "code",
   "execution_count": 3,
   "id": "8f856d28-7e20-4e34-9094-77f411f3475d",
   "metadata": {},
   "outputs": [
    {
     "name": "stdout",
     "output_type": "stream",
     "text": [
      "3\n"
     ]
    }
   ],
   "source": [
    "#(iii) // (Floor Division Operator): The // operator is used for floor division and returns the quotient as an integer (rounding down).\n",
    "a = 10\n",
    "b = 3\n",
    "result = a // b\n",
    "print(result)  # Output: 3"
   ]
  },
  {
   "cell_type": "code",
   "execution_count": 4,
   "id": "429e065a-1715-4573-8df7-b013e1f27c38",
   "metadata": {},
   "outputs": [
    {
     "name": "stdout",
     "output_type": "stream",
     "text": [
      "8\n"
     ]
    }
   ],
   "source": [
    "# (iv) ** (Exponentiation Operator): The ** operator is used for exponentiation and raises the left operand to the power of the right operand.\n",
    "a = 2\n",
    "b = 3\n",
    "result = a ** b\n",
    "print(result)  # Output: 8"
   ]
  },
  {
   "cell_type": "code",
   "execution_count": null,
   "id": "59bb51b4-b0c6-4ff8-92aa-7f6a89f3a8ad",
   "metadata": {},
   "outputs": [],
   "source": []
  },
  {
   "cell_type": "markdown",
   "id": "67548b03-c191-4cb0-9e61-543c7fc2cb05",
   "metadata": {},
   "source": [
    "Q4. Create a list of length 10 of your choice containing multiple types of data. Using for loop print the element and its data type."
   ]
  },
  {
   "cell_type": "code",
   "execution_count": 2,
   "id": "637daa6c-07ff-4e27-8239-c8f6f95eb0c1",
   "metadata": {},
   "outputs": [
    {
     "name": "stdout",
     "output_type": "stream",
     "text": [
      "10 <class 'int'>\n",
      "Hello <class 'str'>\n",
      "3.14 <class 'float'>\n",
      "True <class 'bool'>\n",
      "[1, 2, 3] <class 'list'>\n",
      "(4, 5, 6) <class 'tuple'>\n",
      "{'name': 'John', 'age': 25} <class 'dict'>\n",
      "None <class 'NoneType'>\n",
      "(5+2j) <class 'complex'>\n",
      "False <class 'bool'>\n"
     ]
    }
   ],
   "source": [
    "A = [10, \"Hello\", 3.14, True, [1, 2, 3], (4, 5, 6), {\"name\": \"John\", \"age\": 25}, None, 5 + 2j, False]\n",
    "\n",
    "for element in A:\n",
    "    print(element, type(element))\n"
   ]
  },
  {
   "cell_type": "code",
   "execution_count": null,
   "id": "17378d40-a5a4-4979-813b-3492cb6ea03c",
   "metadata": {},
   "outputs": [],
   "source": []
  },
  {
   "cell_type": "raw",
   "id": "efe1197f-1448-41de-a9db-a8f856ab889a",
   "metadata": {},
   "source": [
    "Q5. Using a while loop, verify if the number A is purely divisible by number B and if so then how many times it can be divisible."
   ]
  },
  {
   "cell_type": "code",
   "execution_count": 3,
   "id": "8468f984-9e82-4b41-b6df-d1b002713602",
   "metadata": {},
   "outputs": [
    {
     "name": "stdout",
     "output_type": "stream",
     "text": [
      "Number A is divisible by number B.\n",
      "It can be divided 1 times.\n"
     ]
    }
   ],
   "source": [
    "A = 24  # Number A\n",
    "B = 3   # Number B\n",
    "\n",
    "count = 0  # Counter to keep track of the number of divisions\n",
    "\n",
    "while A % B == 0:\n",
    "    A = A / B\n",
    "    count += 1\n",
    "\n",
    "if count > 0:\n",
    "    print(\"Number A is divisible by number B.\")\n",
    "    print(\"It can be divided\", count, \"times.\")\n",
    "else:\n",
    "    print(\"Number A is not divisible by number B.\")"
   ]
  },
  {
   "cell_type": "code",
   "execution_count": null,
   "id": "2ec967d9-eab3-4a42-96d0-3b95ceb9f7b8",
   "metadata": {},
   "outputs": [],
   "source": []
  },
  {
   "cell_type": "code",
   "execution_count": null,
   "id": "e542d4dd-fe54-4c30-853b-41fa4ffa579f",
   "metadata": {},
   "outputs": [],
   "source": [
    "Q6. Create a list containing 25 int type data. Using for loop and if-else condition print if the element is divisible by 3 or not"
   ]
  },
  {
   "cell_type": "code",
   "execution_count": 4,
   "id": "ccc3399d-101f-404f-b8d4-5921d26e18b8",
   "metadata": {},
   "outputs": [
    {
     "name": "stdout",
     "output_type": "stream",
     "text": [
      "2 is not divisible by 3\n",
      "9 is divisible by 3\n",
      "12 is divisible by 3\n",
      "5 is not divisible by 3\n",
      "18 is divisible by 3\n",
      "7 is not divisible by 3\n",
      "21 is divisible by 3\n",
      "15 is divisible by 3\n",
      "4 is not divisible by 3\n",
      "10 is not divisible by 3\n",
      "27 is divisible by 3\n",
      "14 is not divisible by 3\n",
      "6 is divisible by 3\n",
      "8 is not divisible by 3\n",
      "1 is not divisible by 3\n",
      "11 is not divisible by 3\n",
      "19 is not divisible by 3\n",
      "3 is divisible by 3\n",
      "22 is not divisible by 3\n",
      "13 is not divisible by 3\n",
      "16 is not divisible by 3\n",
      "20 is not divisible by 3\n",
      "25 is not divisible by 3\n",
      "17 is not divisible by 3\n",
      "23 is not divisible by 3\n"
     ]
    }
   ],
   "source": [
    "my_list = [2, 9, 12, 5, 18, 7, 21, 15, 4, 10, 27, 14, 6, 8, 1, 11, 19, 3, 22, 13, 16, 20, 25, 17, 23]\n",
    "\n",
    "for element in my_list:\n",
    "    if element % 3 == 0:\n",
    "        print(element, \"is divisible by 3\")\n",
    "    else:\n",
    "        print(element, \"is not divisible by 3\")"
   ]
  },
  {
   "cell_type": "code",
   "execution_count": null,
   "id": "12f65f7f-ef0f-4361-8388-66cd26bee706",
   "metadata": {},
   "outputs": [],
   "source": []
  },
  {
   "cell_type": "raw",
   "id": "bd5f607e-17fe-406e-b8da-0810b760cb05",
   "metadata": {},
   "source": [
    "Q7. What do you understand about mutable and immutable data types? Give examples for both showing this property.\n"
   ]
  },
  {
   "cell_type": "code",
   "execution_count": null,
   "id": "6b237f1a-4ae3-48ec-8347-e41c09f5e41b",
   "metadata": {},
   "outputs": [],
   "source": [
    "# Mutable and immutable are terms used to describe the ability to modify or change an object after it is created. In programming, mutable data types allow -\n",
    "# their values to be modified, while immutable data types do not."
   ]
  },
  {
   "cell_type": "code",
   "execution_count": 7,
   "id": "9895263c-9e1d-41d2-9705-65970beb267c",
   "metadata": {},
   "outputs": [
    {
     "name": "stdout",
     "output_type": "stream",
     "text": [
      "10\n",
      "5\n",
      "Alice\n",
      "ALICE\n",
      "(5, 6)\n"
     ]
    }
   ],
   "source": [
    "# Example of immutable data types\n",
    "x = 5\n",
    "y = x  # y holds the value of x\n",
    "x = 10  # Modifying x does not affect the value of y\n",
    "print(x)  # Output: 10\n",
    "print(y)  # Output: 5\n",
    "\n",
    "name = \"Alice\"\n",
    "new_name = name.upper()  # Creating a new string object with modified value\n",
    "print(name)  # Output: Alice\n",
    "print(new_name)  # Output: ALICE\n",
    "\n",
    "coordinates = (3, 4)\n",
    "# Modifying coordinates by reassigning a new tuple with modified values\n",
    "coordinates = (5, 6)\n",
    "print(coordinates)  # Output: (5, 6)"
   ]
  },
  {
   "cell_type": "code",
   "execution_count": 8,
   "id": "b9f9c8e1-46e5-4bf6-b94d-631ba3f93403",
   "metadata": {},
   "outputs": [
    {
     "name": "stdout",
     "output_type": "stream",
     "text": [
      "[1, 2, 3, 4]\n",
      "{'name': 'John', 'age': 30}\n",
      "{1, 2, 3, 4}\n"
     ]
    }
   ],
   "source": [
    "# Example of mutable data types\n",
    "my_list = [1, 2, 3]\n",
    "my_list.append(4)  # Modifying the existing list by adding a new element\n",
    "print(my_list)  # Output: [1, 2, 3, 4]\n",
    "\n",
    "my_dict = {\"name\": \"John\", \"age\": 25}\n",
    "my_dict[\"age\"] = 30  # Modifying the existing dictionary by changing the value\n",
    "print(my_dict)  # Output: {'name': 'John', 'age': 30}\n",
    "\n",
    "my_set = {1, 2, 3}\n",
    "my_set.add(4)  # Modifying the existing set by adding a new element\n",
    "print(my_set)  # Output: {1, 2, 3, 4}"
   ]
  }
 ],
 "metadata": {
  "kernelspec": {
   "display_name": "Python 3 (ipykernel)",
   "language": "python",
   "name": "python3"
  },
  "language_info": {
   "codemirror_mode": {
    "name": "ipython",
    "version": 3
   },
   "file_extension": ".py",
   "mimetype": "text/x-python",
   "name": "python",
   "nbconvert_exporter": "python",
   "pygments_lexer": "ipython3",
   "version": "3.10.8"
  }
 },
 "nbformat": 4,
 "nbformat_minor": 5
}
