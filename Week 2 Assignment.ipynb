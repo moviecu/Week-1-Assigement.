{
 "cells": [
  {
   "cell_type": "markdown",
   "id": "7e576da4-0e98-4d3f-9b58-39fd9d932315",
   "metadata": {},
   "source": [
    "Q1. How do you comment code in Python? What are the different types of comments?"
   ]
  },
  {
   "cell_type": "markdown",
   "id": "6ee2c329-9571-430d-a506-0eb66ae4e7ce",
   "metadata": {},
   "source": [
    "Ans:- (i) Single-line comments: These comments are used to provide explanations on a single line. They start with '#' and continue until the end of the line."
   ]
  },
  {
   "cell_type": "code",
   "execution_count": 2,
   "id": "f787a61f-7cd2-4661-b018-30abbfad2ba8",
   "metadata": {},
   "outputs": [],
   "source": [
    "# This is a single-line comment"
   ]
  },
  {
   "cell_type": "markdown",
   "id": "5729073f-3d04-4d4c-849b-54246a144607",
   "metadata": {},
   "source": [
    "(ii) Multi-line comments (docstrings): These comments span multiple lines and are used for documenting functions, classes, or modules. They are enclosed between triple quotes (''' or \"\"\") at the beginning and end."
   ]
  },
  {
   "cell_type": "code",
   "execution_count": 3,
   "id": "9222d96b-7995-40fa-b013-8f6c7ed13e08",
   "metadata": {},
   "outputs": [
    {
     "data": {
      "text/plain": [
       "'\\nThis is a multi-line comment.\\nIt can span multiple lines and is often used as a docstring.\\n'"
      ]
     },
     "execution_count": 3,
     "metadata": {},
     "output_type": "execute_result"
    }
   ],
   "source": [
    "'''\n",
    "This is a multi-line comment.\n",
    "It can span multiple lines and is often used as a docstring.\n",
    "'''\n"
   ]
  },
  {
   "cell_type": "code",
   "execution_count": null,
   "id": "9b8179e0-9216-4217-a64e-32a63dcd5279",
   "metadata": {},
   "outputs": [],
   "source": []
  },
  {
   "cell_type": "markdown",
   "id": "13994b25-6047-4962-8613-0956a4d5242f",
   "metadata": {},
   "source": [
    "Q2. What are variables in Python? How do you declare and assign values to variables?"
   ]
  },
  {
   "cell_type": "code",
   "execution_count": 1,
   "id": "60850a72-68c3-4717-a255-71f07872faa4",
   "metadata": {},
   "outputs": [],
   "source": [
    "# In Python, variables are used to store and manipulate data. A variable is essentially a named location in the computer's memory where a value can be stored. \n",
    "# It allows you to assign values to a specific name and refer to that name to access or modify the value."
   ]
  },
  {
   "cell_type": "code",
   "execution_count": 2,
   "id": "574c986c-3aae-4967-8644-faaae8cedd31",
   "metadata": {},
   "outputs": [
    {
     "name": "stdout",
     "output_type": "stream",
     "text": [
      "Name: Vivek\n",
      "Age: 26\n",
      "Is student? False\n"
     ]
    }
   ],
   "source": [
    "# Variable declaration and assignment\n",
    "name = \"Vivek\"\n",
    "age = 25\n",
    "is_student = True\n",
    "\n",
    "# Accessing and modifying variable values\n",
    "print(\"Name:\", name)  # Output: Vivek\n",
    "\n",
    "age = age + 1\n",
    "print(\"Age:\", age)  # Output: 26\n",
    "\n",
    "is_student = False\n",
    "print(\"Is student?\", is_student)  # Output: False"
   ]
  },
  {
   "cell_type": "code",
   "execution_count": null,
   "id": "2583789b-26f2-4e0a-91ac-7a15d9b65acd",
   "metadata": {},
   "outputs": [],
   "source": []
  },
  {
   "cell_type": "markdown",
   "id": "6244b882-c5ea-45d9-9d33-07951b1c73a3",
   "metadata": {},
   "source": [
    "Q3. How do you convert one data type to another in Python?"
   ]
  },
  {
   "cell_type": "code",
   "execution_count": 5,
   "id": "ffd4a5d1-7e0c-4e63-9d7a-f4a28bd1d93e",
   "metadata": {},
   "outputs": [
    {
     "name": "stdout",
     "output_type": "stream",
     "text": [
      "10\n"
     ]
    },
    {
     "data": {
      "text/plain": [
       "int"
      ]
     },
     "execution_count": 5,
     "metadata": {},
     "output_type": "execute_result"
    }
   ],
   "source": [
    "# (i) int(): Converts a value to an integer data type.\n",
    "num_str = \"10\"\n",
    "num_int = int(num_str)\n",
    "print(num_int)  # Output: 10\n",
    "type(num_int)   # Output: int"
   ]
  },
  {
   "cell_type": "code",
   "execution_count": 7,
   "id": "fb7ea3a5-1aeb-4758-bb97-b92bc0cdddd8",
   "metadata": {},
   "outputs": [
    {
     "name": "stdout",
     "output_type": "stream",
     "text": [
      "3.14\n",
      "14.0\n"
     ]
    }
   ],
   "source": [
    "# (ii) float(): Converts a value to a floating-point (decimal) data type.\n",
    "num_str = \"3.14\"\n",
    "num_float = float(num_str)\n",
    "print(num_float)  # Output: 3.14\n",
    "\n",
    "num_int = 14\n",
    "b_float  = float(num_int) \n",
    "print(b_float) # Output: 14.0"
   ]
  },
  {
   "cell_type": "code",
   "execution_count": 9,
   "id": "3957314f-6a18-45a9-968b-06e4ddf7c335",
   "metadata": {},
   "outputs": [
    {
     "name": "stdout",
     "output_type": "stream",
     "text": [
      "42\n"
     ]
    },
    {
     "data": {
      "text/plain": [
       "str"
      ]
     },
     "execution_count": 9,
     "metadata": {},
     "output_type": "execute_result"
    }
   ],
   "source": [
    "# (iii) str(): Converts a value to a string data type.\n",
    "num_int = 42\n",
    "num_str = str(num_int)\n",
    "print(num_str)  # Output: \"42\"\n",
    "type(num_str)"
   ]
  },
  {
   "cell_type": "code",
   "execution_count": 10,
   "id": "70ef6279-1a1e-4bba-9e1b-cc50d88d5fbb",
   "metadata": {},
   "outputs": [
    {
     "name": "stdout",
     "output_type": "stream",
     "text": [
      "True\n",
      "False\n"
     ]
    },
    {
     "data": {
      "text/plain": [
       "bool"
      ]
     },
     "execution_count": 10,
     "metadata": {},
     "output_type": "execute_result"
    }
   ],
   "source": [
    "# (iv) bool(): Converts a value to a boolean data type\n",
    "num_int1 = 1\n",
    "is_valid1 = bool(num_int1)\n",
    "print(is_valid1)  # Output: True\n",
    "type(is_valid1)\n",
    "\n",
    "num_int2 = 0\n",
    "is_valid2 = bool(num_int2)\n",
    "print(is_valid2)  # Output: False\n",
    "type(is_valid2)"
   ]
  },
  {
   "cell_type": "code",
   "execution_count": null,
   "id": "6f2fd7c6-ce66-435f-9c88-324c0c2de70b",
   "metadata": {},
   "outputs": [],
   "source": []
  },
  {
   "cell_type": "markdown",
   "id": "791c78bc-cc6d-4b38-87e6-4082ae28d81a",
   "metadata": {},
   "source": [
    "Q4. How do you write and execute a Python script from the command line?"
   ]
  },
  {
   "cell_type": "raw",
   "id": "9da2049f-a069-4cdd-b2d1-fd609fec7cdb",
   "metadata": {},
   "source": [
    "To write and execute a Python script from the command line in Jupyter Notebook, you can follow these steps:\n",
    "\n",
    "Create a new code cell in Jupyter Notebook.\n",
    "Write your Python code in the code cell.\n",
    "Save the notebook if you haven't already.\n",
    "Open a new terminal window.\n",
    "Navigate to the directory where your Jupyter Notebook file is located. You can use the cd command to change directories.\n",
    "Type the following command in the terminal: jupyter nbconvert --to script [notebook_filename.ipynb]. Replace [notebook_filename.ipynb] with the actual name of your notebook file.\n",
    "This command will generate a Python script file with the same name as your notebook file, but with a .py extension.\n",
    "Execute the Python script by typing python [generated_script_filename.py] in the terminal. Replace [generated_script_filename.py] with the actual name of the generated script file."
   ]
  },
  {
   "cell_type": "code",
   "execution_count": null,
   "id": "21ca7826-7694-43b4-8f8d-35c4d9a23bf5",
   "metadata": {},
   "outputs": [],
   "source": []
  },
  {
   "cell_type": "markdown",
   "id": "f98ff84b-1f32-4fba-8049-39f3d859cd24",
   "metadata": {},
   "source": [
    "Q5. Given a list my_list = [1, 2, 3, 4, 5], write the code to slice the list and obtain the sub-list [2, 3]."
   ]
  },
  {
   "cell_type": "code",
   "execution_count": 2,
   "id": "92373878-4329-46c8-abf7-cef26f20da8e",
   "metadata": {},
   "outputs": [
    {
     "name": "stdout",
     "output_type": "stream",
     "text": [
      "[2, 3]\n"
     ]
    }
   ],
   "source": [
    "my_list = [1, 2, 3, 4, 5]\n",
    "sub_list = my_list[1:3]\n",
    "print(sub_list)"
   ]
  },
  {
   "cell_type": "code",
   "execution_count": null,
   "id": "ae3e1abb-b78d-4389-a84c-e2223894f889",
   "metadata": {},
   "outputs": [],
   "source": []
  },
  {
   "cell_type": "markdown",
   "id": "892e5a39-aa99-4d0e-ac50-112554ae7932",
   "metadata": {},
   "source": [
    "Q6. What is a complex number in mathematics, and how is it represented in Python?"
   ]
  },
  {
   "cell_type": "code",
   "execution_count": 3,
   "id": "7cab344a-e0b3-454f-9fca-dcf20c0a2f1e",
   "metadata": {},
   "outputs": [
    {
     "name": "stdout",
     "output_type": "stream",
     "text": [
      "(2+3j)\n",
      "(4+2j)\n",
      "(5+0j)\n",
      "7j\n"
     ]
    }
   ],
   "source": [
    "# Using complex() function\n",
    "z1 = complex(2, 3)\n",
    "print(z1)  # Output: (2+3j)\n",
    "\n",
    "# Directly specifying real and imaginary parts\n",
    "z2 = 4 + 2j\n",
    "print(z2)  # Output: (4+2j)\n",
    "\n",
    "# Complex number with only real part\n",
    "z3 = 5 + 0j\n",
    "print(z3)  # Output: (5+0j)\n",
    "\n",
    "# Complex number with only imaginary part\n",
    "z4 = 0 + 7j\n",
    "print(z4)  # Output: 7j"
   ]
  },
  {
   "cell_type": "code",
   "execution_count": null,
   "id": "20b62874-5b15-4ab4-9745-988036346b24",
   "metadata": {},
   "outputs": [],
   "source": []
  },
  {
   "cell_type": "markdown",
   "id": "e1864a6e-c384-4b5d-9461-a66cfc5a99d5",
   "metadata": {},
   "source": [
    "Q7. What is the correct way to declare a variable named age and assign the value 25 to it?"
   ]
  },
  {
   "cell_type": "code",
   "execution_count": 4,
   "id": "72f9d53e-9a27-413b-9ac1-97e6910d4741",
   "metadata": {},
   "outputs": [],
   "source": [
    "age = 25"
   ]
  },
  {
   "cell_type": "code",
   "execution_count": 5,
   "id": "eb8fde07-bd48-4d6c-8b0a-7a10122d9fa5",
   "metadata": {},
   "outputs": [
    {
     "data": {
      "text/plain": [
       "25"
      ]
     },
     "execution_count": 5,
     "metadata": {},
     "output_type": "execute_result"
    }
   ],
   "source": [
    "age"
   ]
  },
  {
   "cell_type": "code",
   "execution_count": null,
   "id": "570636c8-53b0-4c75-9c25-527669e1d479",
   "metadata": {},
   "outputs": [],
   "source": []
  },
  {
   "cell_type": "markdown",
   "id": "a9305e5a-357c-4f13-8dd8-0b2760e2a69a",
   "metadata": {},
   "source": [
    "Q8. Declare a variable named price and assign the value 9.99 to it. What data type does this variable belong to?"
   ]
  },
  {
   "cell_type": "code",
   "execution_count": 6,
   "id": "a6261069-ca24-4458-a455-4045e5afa060",
   "metadata": {},
   "outputs": [
    {
     "data": {
      "text/plain": [
       "float"
      ]
     },
     "execution_count": 6,
     "metadata": {},
     "output_type": "execute_result"
    }
   ],
   "source": [
    "price  = 9.99\n",
    "type(price)"
   ]
  },
  {
   "cell_type": "code",
   "execution_count": null,
   "id": "5ea1a7c1-fe78-44ed-b0e7-8a7324419f45",
   "metadata": {},
   "outputs": [],
   "source": []
  },
  {
   "cell_type": "markdown",
   "id": "b15c9c5f-272f-4787-a9d0-49aa61e940c2",
   "metadata": {},
   "source": [
    "Q9. Create a variable named name and assign your full name to it as a string. How would you print the value of this variable?"
   ]
  },
  {
   "cell_type": "code",
   "execution_count": 7,
   "id": "0bbb380e-9b4a-4191-894a-0ee2fb7ec8d6",
   "metadata": {},
   "outputs": [
    {
     "name": "stdout",
     "output_type": "stream",
     "text": [
      "Vivek Kumar\n"
     ]
    }
   ],
   "source": [
    "name = \"Vivek Kumar\"\n",
    "print(name)"
   ]
  },
  {
   "cell_type": "code",
   "execution_count": null,
   "id": "6234e98c-baf7-40f5-944c-5ce64df9a848",
   "metadata": {},
   "outputs": [],
   "source": []
  },
  {
   "cell_type": "markdown",
   "id": "60b55eaf-7c4f-424e-a556-f9720efee7fb",
   "metadata": {},
   "source": [
    "Q10. Given the string \"Hello, World!\", extract the substring \"World\"."
   ]
  },
  {
   "cell_type": "code",
   "execution_count": 9,
   "id": "d82257a3-4ab4-40b3-8239-7aec3dcd5709",
   "metadata": {},
   "outputs": [
    {
     "name": "stdout",
     "output_type": "stream",
     "text": [
      "World!\n"
     ]
    }
   ],
   "source": [
    "string = \"Hello, World!\"\n",
    "substring = string[7:]\n",
    "print(substring)\n"
   ]
  },
  {
   "cell_type": "code",
   "execution_count": null,
   "id": "8fd435fe-6776-4852-9009-bb7ccdb50c75",
   "metadata": {},
   "outputs": [],
   "source": []
  },
  {
   "cell_type": "markdown",
   "id": "d329dce6-10ed-4837-94f1-f0c255e343ae",
   "metadata": {},
   "source": [
    "Q11. Create a variable named \"is_student\" and assign it a boolean value indicating whether you are currently a student or not."
   ]
  },
  {
   "cell_type": "code",
   "execution_count": 11,
   "id": "be83b604-5275-41b7-8e8a-8bc4148ae21d",
   "metadata": {},
   "outputs": [
    {
     "name": "stdout",
     "output_type": "stream",
     "text": [
      "True\n"
     ]
    }
   ],
   "source": [
    "is_student = True\n",
    "print(is_student)"
   ]
  },
  {
   "cell_type": "code",
   "execution_count": null,
   "id": "8232b3cf-3fa5-486e-88b5-f93a2349e1e0",
   "metadata": {},
   "outputs": [],
   "source": []
  }
 ],
 "metadata": {
  "kernelspec": {
   "display_name": "Python 3 (ipykernel)",
   "language": "python",
   "name": "python3"
  },
  "language_info": {
   "codemirror_mode": {
    "name": "ipython",
    "version": 3
   },
   "file_extension": ".py",
   "mimetype": "text/x-python",
   "name": "python",
   "nbconvert_exporter": "python",
   "pygments_lexer": "ipython3",
   "version": "3.10.8"
  }
 },
 "nbformat": 4,
 "nbformat_minor": 5
}
